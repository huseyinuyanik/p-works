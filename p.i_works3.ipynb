{
 "cells": [
  {
   "cell_type": "code",
   "execution_count": 1,
   "id": "4be559f9",
   "metadata": {},
   "outputs": [],
   "source": [
    "import pandas as pd\n",
    "import numpy as np\n",
    "\n",
    "import matplotlib.pyplot as plt\n",
    "import seaborn as sns"
   ]
  },
  {
   "cell_type": "code",
   "execution_count": 2,
   "id": "fd3f4ec0",
   "metadata": {},
   "outputs": [
    {
     "data": {
      "text/html": [
       "<div>\n",
       "<style scoped>\n",
       "    .dataframe tbody tr th:only-of-type {\n",
       "        vertical-align: middle;\n",
       "    }\n",
       "\n",
       "    .dataframe tbody tr th {\n",
       "        vertical-align: top;\n",
       "    }\n",
       "\n",
       "    .dataframe thead th {\n",
       "        text-align: right;\n",
       "    }\n",
       "</style>\n",
       "<table border=\"1\" class=\"dataframe\">\n",
       "  <thead>\n",
       "    <tr style=\"text-align: right;\">\n",
       "      <th></th>\n",
       "      <th>timestamp</th>\n",
       "      <th>municipality_id</th>\n",
       "      <th>usage</th>\n",
       "      <th>total_capacity</th>\n",
       "    </tr>\n",
       "  </thead>\n",
       "  <tbody>\n",
       "    <tr>\n",
       "      <th>0</th>\n",
       "      <td>2017-06-04 07:59:42</td>\n",
       "      <td>9</td>\n",
       "      <td>454</td>\n",
       "      <td>1332</td>\n",
       "    </tr>\n",
       "    <tr>\n",
       "      <th>1</th>\n",
       "      <td>2017-06-04 07:59:42</td>\n",
       "      <td>8</td>\n",
       "      <td>556</td>\n",
       "      <td>2947</td>\n",
       "    </tr>\n",
       "    <tr>\n",
       "      <th>2</th>\n",
       "      <td>2017-06-04 07:59:42</td>\n",
       "      <td>4</td>\n",
       "      <td>1090</td>\n",
       "      <td>3893</td>\n",
       "    </tr>\n",
       "    <tr>\n",
       "      <th>3</th>\n",
       "      <td>2017-06-04 07:59:42</td>\n",
       "      <td>0</td>\n",
       "      <td>204</td>\n",
       "      <td>2813</td>\n",
       "    </tr>\n",
       "    <tr>\n",
       "      <th>4</th>\n",
       "      <td>2017-06-04 07:59:42</td>\n",
       "      <td>7</td>\n",
       "      <td>718</td>\n",
       "      <td>2019</td>\n",
       "    </tr>\n",
       "    <tr>\n",
       "      <th>...</th>\n",
       "      <td>...</td>\n",
       "      <td>...</td>\n",
       "      <td>...</td>\n",
       "      <td>...</td>\n",
       "    </tr>\n",
       "    <tr>\n",
       "      <th>13065</th>\n",
       "      <td>2017-08-19 16:30:35</td>\n",
       "      <td>2</td>\n",
       "      <td>548</td>\n",
       "      <td>697</td>\n",
       "    </tr>\n",
       "    <tr>\n",
       "      <th>13066</th>\n",
       "      <td>2017-08-19 16:30:35</td>\n",
       "      <td>8</td>\n",
       "      <td>1193</td>\n",
       "      <td>2947</td>\n",
       "    </tr>\n",
       "    <tr>\n",
       "      <th>13067</th>\n",
       "      <td>2017-08-19 16:30:35</td>\n",
       "      <td>7</td>\n",
       "      <td>1354</td>\n",
       "      <td>2019</td>\n",
       "    </tr>\n",
       "    <tr>\n",
       "      <th>13068</th>\n",
       "      <td>2017-08-19 16:30:35</td>\n",
       "      <td>6</td>\n",
       "      <td>1680</td>\n",
       "      <td>3113</td>\n",
       "    </tr>\n",
       "    <tr>\n",
       "      <th>13069</th>\n",
       "      <td>2017-08-19 16:30:35</td>\n",
       "      <td>3</td>\n",
       "      <td>1189</td>\n",
       "      <td>1930</td>\n",
       "    </tr>\n",
       "  </tbody>\n",
       "</table>\n",
       "<p>13070 rows × 4 columns</p>\n",
       "</div>"
      ],
      "text/plain": [
       "                 timestamp  municipality_id  usage  total_capacity\n",
       "0      2017-06-04 07:59:42                9    454            1332\n",
       "1      2017-06-04 07:59:42                8    556            2947\n",
       "2      2017-06-04 07:59:42                4   1090            3893\n",
       "3      2017-06-04 07:59:42                0    204            2813\n",
       "4      2017-06-04 07:59:42                7    718            2019\n",
       "...                    ...              ...    ...             ...\n",
       "13065  2017-08-19 16:30:35                2    548             697\n",
       "13066  2017-08-19 16:30:35                8   1193            2947\n",
       "13067  2017-08-19 16:30:35                7   1354            2019\n",
       "13068  2017-08-19 16:30:35                6   1680            3113\n",
       "13069  2017-08-19 16:30:35                3   1189            1930\n",
       "\n",
       "[13070 rows x 4 columns]"
      ]
     },
     "execution_count": 2,
     "metadata": {},
     "output_type": "execute_result"
    }
   ],
   "source": [
    "df2=pd.read_csv(\"municipality_bus_utilization.csv\")\n",
    "df2"
   ]
  },
  {
   "cell_type": "code",
   "execution_count": 3,
   "id": "8d2baf67",
   "metadata": {},
   "outputs": [
    {
     "data": {
      "text/html": [
       "<div>\n",
       "<style scoped>\n",
       "    .dataframe tbody tr th:only-of-type {\n",
       "        vertical-align: middle;\n",
       "    }\n",
       "\n",
       "    .dataframe tbody tr th {\n",
       "        vertical-align: top;\n",
       "    }\n",
       "\n",
       "    .dataframe thead th {\n",
       "        text-align: right;\n",
       "    }\n",
       "</style>\n",
       "<table border=\"1\" class=\"dataframe\">\n",
       "  <thead>\n",
       "    <tr style=\"text-align: right;\">\n",
       "      <th></th>\n",
       "      <th>municipality_id</th>\n",
       "      <th>usage</th>\n",
       "      <th>total_capacity</th>\n",
       "    </tr>\n",
       "    <tr>\n",
       "      <th>timestamp</th>\n",
       "      <th></th>\n",
       "      <th></th>\n",
       "      <th></th>\n",
       "    </tr>\n",
       "  </thead>\n",
       "  <tbody>\n",
       "    <tr>\n",
       "      <th>2017-06-04 07:59:42</th>\n",
       "      <td>9</td>\n",
       "      <td>454</td>\n",
       "      <td>1332</td>\n",
       "    </tr>\n",
       "    <tr>\n",
       "      <th>2017-06-04 07:59:42</th>\n",
       "      <td>8</td>\n",
       "      <td>556</td>\n",
       "      <td>2947</td>\n",
       "    </tr>\n",
       "    <tr>\n",
       "      <th>2017-06-04 07:59:42</th>\n",
       "      <td>4</td>\n",
       "      <td>1090</td>\n",
       "      <td>3893</td>\n",
       "    </tr>\n",
       "    <tr>\n",
       "      <th>2017-06-04 07:59:42</th>\n",
       "      <td>0</td>\n",
       "      <td>204</td>\n",
       "      <td>2813</td>\n",
       "    </tr>\n",
       "    <tr>\n",
       "      <th>2017-06-04 07:59:42</th>\n",
       "      <td>7</td>\n",
       "      <td>718</td>\n",
       "      <td>2019</td>\n",
       "    </tr>\n",
       "    <tr>\n",
       "      <th>...</th>\n",
       "      <td>...</td>\n",
       "      <td>...</td>\n",
       "      <td>...</td>\n",
       "    </tr>\n",
       "    <tr>\n",
       "      <th>2017-08-19 16:30:35</th>\n",
       "      <td>2</td>\n",
       "      <td>548</td>\n",
       "      <td>697</td>\n",
       "    </tr>\n",
       "    <tr>\n",
       "      <th>2017-08-19 16:30:35</th>\n",
       "      <td>8</td>\n",
       "      <td>1193</td>\n",
       "      <td>2947</td>\n",
       "    </tr>\n",
       "    <tr>\n",
       "      <th>2017-08-19 16:30:35</th>\n",
       "      <td>7</td>\n",
       "      <td>1354</td>\n",
       "      <td>2019</td>\n",
       "    </tr>\n",
       "    <tr>\n",
       "      <th>2017-08-19 16:30:35</th>\n",
       "      <td>6</td>\n",
       "      <td>1680</td>\n",
       "      <td>3113</td>\n",
       "    </tr>\n",
       "    <tr>\n",
       "      <th>2017-08-19 16:30:35</th>\n",
       "      <td>3</td>\n",
       "      <td>1189</td>\n",
       "      <td>1930</td>\n",
       "    </tr>\n",
       "  </tbody>\n",
       "</table>\n",
       "<p>13070 rows × 3 columns</p>\n",
       "</div>"
      ],
      "text/plain": [
       "                     municipality_id  usage  total_capacity\n",
       "timestamp                                                  \n",
       "2017-06-04 07:59:42                9    454            1332\n",
       "2017-06-04 07:59:42                8    556            2947\n",
       "2017-06-04 07:59:42                4   1090            3893\n",
       "2017-06-04 07:59:42                0    204            2813\n",
       "2017-06-04 07:59:42                7    718            2019\n",
       "...                              ...    ...             ...\n",
       "2017-08-19 16:30:35                2    548             697\n",
       "2017-08-19 16:30:35                8   1193            2947\n",
       "2017-08-19 16:30:35                7   1354            2019\n",
       "2017-08-19 16:30:35                6   1680            3113\n",
       "2017-08-19 16:30:35                3   1189            1930\n",
       "\n",
       "[13070 rows x 3 columns]"
      ]
     },
     "execution_count": 3,
     "metadata": {},
     "output_type": "execute_result"
    }
   ],
   "source": [
    "df=pd.read_csv(\"municipality_bus_utilization.csv\", parse_dates=[\"timestamp\"], index_col=[\"timestamp\"])\n",
    "df"
   ]
  },
  {
   "cell_type": "code",
   "execution_count": 4,
   "id": "228bae29",
   "metadata": {},
   "outputs": [
    {
     "data": {
      "text/plain": [
       "municipality_id    int64\n",
       "usage              int64\n",
       "total_capacity     int64\n",
       "dtype: object"
      ]
     },
     "execution_count": 4,
     "metadata": {},
     "output_type": "execute_result"
    }
   ],
   "source": [
    "df.dtypes"
   ]
  },
  {
   "cell_type": "code",
   "execution_count": 5,
   "id": "5108636e",
   "metadata": {},
   "outputs": [
    {
     "name": "stdout",
     "output_type": "stream",
     "text": [
      "<class 'pandas.core.frame.DataFrame'>\n",
      "DatetimeIndex: 13070 entries, 2017-06-04 07:59:42 to 2017-08-19 16:30:35\n",
      "Data columns (total 3 columns):\n",
      " #   Column           Non-Null Count  Dtype\n",
      "---  ------           --------------  -----\n",
      " 0   municipality_id  13070 non-null  int64\n",
      " 1   usage            13070 non-null  int64\n",
      " 2   total_capacity   13070 non-null  int64\n",
      "dtypes: int64(3)\n",
      "memory usage: 408.4 KB\n"
     ]
    }
   ],
   "source": [
    "df.info()"
   ]
  },
  {
   "cell_type": "code",
   "execution_count": 6,
   "id": "4ce0a77d",
   "metadata": {},
   "outputs": [
    {
     "data": {
      "text/plain": [
       "Index(['municipality_id', 'usage', 'total_capacity'], dtype='object')"
      ]
     },
     "execution_count": 6,
     "metadata": {},
     "output_type": "execute_result"
    }
   ],
   "source": [
    "df.columns"
   ]
  },
  {
   "cell_type": "code",
   "execution_count": 7,
   "id": "64e8b8cc",
   "metadata": {},
   "outputs": [
    {
     "data": {
      "text/plain": [
       "municipality_id    0\n",
       "usage              0\n",
       "total_capacity     0\n",
       "dtype: int64"
      ]
     },
     "execution_count": 7,
     "metadata": {},
     "output_type": "execute_result"
    }
   ],
   "source": [
    "df.isnull().sum()"
   ]
  },
  {
   "cell_type": "code",
   "execution_count": 8,
   "id": "39b5face",
   "metadata": {},
   "outputs": [
    {
     "name": "stderr",
     "output_type": "stream",
     "text": [
      "C:\\Users\\hsyn_\\AppData\\Local\\Temp\\ipykernel_7180\\1659953533.py:1: FutureWarning: Indexing a DataFrame with a datetimelike index using a single string to slice the rows, like `frame[string]`, is deprecated and will be removed in a future version. Use `frame.loc[string]` instead.\n",
      "  df[\"2017-06-05\"]\n"
     ]
    },
    {
     "data": {
      "text/html": [
       "<div>\n",
       "<style scoped>\n",
       "    .dataframe tbody tr th:only-of-type {\n",
       "        vertical-align: middle;\n",
       "    }\n",
       "\n",
       "    .dataframe tbody tr th {\n",
       "        vertical-align: top;\n",
       "    }\n",
       "\n",
       "    .dataframe thead th {\n",
       "        text-align: right;\n",
       "    }\n",
       "</style>\n",
       "<table border=\"1\" class=\"dataframe\">\n",
       "  <thead>\n",
       "    <tr style=\"text-align: right;\">\n",
       "      <th></th>\n",
       "      <th>municipality_id</th>\n",
       "      <th>usage</th>\n",
       "      <th>total_capacity</th>\n",
       "    </tr>\n",
       "    <tr>\n",
       "      <th>timestamp</th>\n",
       "      <th></th>\n",
       "      <th></th>\n",
       "      <th></th>\n",
       "    </tr>\n",
       "  </thead>\n",
       "  <tbody>\n",
       "    <tr>\n",
       "      <th>2017-06-05 07:57:17</th>\n",
       "      <td>5</td>\n",
       "      <td>63</td>\n",
       "      <td>587</td>\n",
       "    </tr>\n",
       "    <tr>\n",
       "      <th>2017-06-05 07:57:17</th>\n",
       "      <td>9</td>\n",
       "      <td>462</td>\n",
       "      <td>1332</td>\n",
       "    </tr>\n",
       "    <tr>\n",
       "      <th>2017-06-05 07:57:17</th>\n",
       "      <td>1</td>\n",
       "      <td>155</td>\n",
       "      <td>397</td>\n",
       "    </tr>\n",
       "    <tr>\n",
       "      <th>2017-06-05 07:57:17</th>\n",
       "      <td>2</td>\n",
       "      <td>291</td>\n",
       "      <td>697</td>\n",
       "    </tr>\n",
       "    <tr>\n",
       "      <th>2017-06-05 07:57:17</th>\n",
       "      <td>4</td>\n",
       "      <td>1113</td>\n",
       "      <td>3893</td>\n",
       "    </tr>\n",
       "    <tr>\n",
       "      <th>...</th>\n",
       "      <td>...</td>\n",
       "      <td>...</td>\n",
       "      <td>...</td>\n",
       "    </tr>\n",
       "    <tr>\n",
       "      <th>2017-06-05 16:30:17</th>\n",
       "      <td>9</td>\n",
       "      <td>641</td>\n",
       "      <td>1332</td>\n",
       "    </tr>\n",
       "    <tr>\n",
       "      <th>2017-06-05 16:30:17</th>\n",
       "      <td>6</td>\n",
       "      <td>902</td>\n",
       "      <td>3113</td>\n",
       "    </tr>\n",
       "    <tr>\n",
       "      <th>2017-06-05 16:30:17</th>\n",
       "      <td>7</td>\n",
       "      <td>1106</td>\n",
       "      <td>2019</td>\n",
       "    </tr>\n",
       "    <tr>\n",
       "      <th>2017-06-05 16:30:17</th>\n",
       "      <td>4</td>\n",
       "      <td>2286</td>\n",
       "      <td>3893</td>\n",
       "    </tr>\n",
       "    <tr>\n",
       "      <th>2017-06-05 16:30:17</th>\n",
       "      <td>3</td>\n",
       "      <td>1058</td>\n",
       "      <td>1930</td>\n",
       "    </tr>\n",
       "  </tbody>\n",
       "</table>\n",
       "<p>180 rows × 3 columns</p>\n",
       "</div>"
      ],
      "text/plain": [
       "                     municipality_id  usage  total_capacity\n",
       "timestamp                                                  \n",
       "2017-06-05 07:57:17                5     63             587\n",
       "2017-06-05 07:57:17                9    462            1332\n",
       "2017-06-05 07:57:17                1    155             397\n",
       "2017-06-05 07:57:17                2    291             697\n",
       "2017-06-05 07:57:17                4   1113            3893\n",
       "...                              ...    ...             ...\n",
       "2017-06-05 16:30:17                9    641            1332\n",
       "2017-06-05 16:30:17                6    902            3113\n",
       "2017-06-05 16:30:17                7   1106            2019\n",
       "2017-06-05 16:30:17                4   2286            3893\n",
       "2017-06-05 16:30:17                3   1058            1930\n",
       "\n",
       "[180 rows x 3 columns]"
      ]
     },
     "execution_count": 8,
     "metadata": {},
     "output_type": "execute_result"
    }
   ],
   "source": [
    "df[\"2017-06-05\"]"
   ]
  },
  {
   "cell_type": "code",
   "execution_count": 9,
   "id": "376a2ca6",
   "metadata": {},
   "outputs": [],
   "source": [
    "%matplotlib inline"
   ]
  },
  {
   "cell_type": "code",
   "execution_count": 10,
   "id": "37f3ec9b",
   "metadata": {},
   "outputs": [
    {
     "data": {
      "text/html": [
       "<div>\n",
       "<style scoped>\n",
       "    .dataframe tbody tr th:only-of-type {\n",
       "        vertical-align: middle;\n",
       "    }\n",
       "\n",
       "    .dataframe tbody tr th {\n",
       "        vertical-align: top;\n",
       "    }\n",
       "\n",
       "    .dataframe thead th {\n",
       "        text-align: right;\n",
       "    }\n",
       "</style>\n",
       "<table border=\"1\" class=\"dataframe\">\n",
       "  <thead>\n",
       "    <tr style=\"text-align: right;\">\n",
       "      <th></th>\n",
       "      <th>municipality_id</th>\n",
       "      <th>usage</th>\n",
       "      <th>total_capacity</th>\n",
       "    </tr>\n",
       "    <tr>\n",
       "      <th>timestamp</th>\n",
       "      <th></th>\n",
       "      <th></th>\n",
       "      <th></th>\n",
       "    </tr>\n",
       "  </thead>\n",
       "  <tbody>\n",
       "    <tr>\n",
       "      <th>2017-06-04 07:00:00</th>\n",
       "      <td>4.5</td>\n",
       "      <td>471.40</td>\n",
       "      <td>1972.8</td>\n",
       "    </tr>\n",
       "    <tr>\n",
       "      <th>2017-06-04 08:00:00</th>\n",
       "      <td>4.5</td>\n",
       "      <td>631.65</td>\n",
       "      <td>1972.8</td>\n",
       "    </tr>\n",
       "    <tr>\n",
       "      <th>2017-06-04 09:00:00</th>\n",
       "      <td>4.5</td>\n",
       "      <td>896.35</td>\n",
       "      <td>1972.8</td>\n",
       "    </tr>\n",
       "    <tr>\n",
       "      <th>2017-06-04 10:00:00</th>\n",
       "      <td>4.5</td>\n",
       "      <td>1067.15</td>\n",
       "      <td>1972.8</td>\n",
       "    </tr>\n",
       "    <tr>\n",
       "      <th>2017-06-04 11:00:00</th>\n",
       "      <td>4.5</td>\n",
       "      <td>1147.75</td>\n",
       "      <td>1972.8</td>\n",
       "    </tr>\n",
       "    <tr>\n",
       "      <th>...</th>\n",
       "      <td>...</td>\n",
       "      <td>...</td>\n",
       "      <td>...</td>\n",
       "    </tr>\n",
       "    <tr>\n",
       "      <th>2017-08-19 12:00:00</th>\n",
       "      <td>4.5</td>\n",
       "      <td>1245.40</td>\n",
       "      <td>1972.8</td>\n",
       "    </tr>\n",
       "    <tr>\n",
       "      <th>2017-08-19 13:00:00</th>\n",
       "      <td>4.5</td>\n",
       "      <td>1304.95</td>\n",
       "      <td>1972.8</td>\n",
       "    </tr>\n",
       "    <tr>\n",
       "      <th>2017-08-19 14:00:00</th>\n",
       "      <td>4.5</td>\n",
       "      <td>1322.10</td>\n",
       "      <td>1972.8</td>\n",
       "    </tr>\n",
       "    <tr>\n",
       "      <th>2017-08-19 15:00:00</th>\n",
       "      <td>4.5</td>\n",
       "      <td>1282.80</td>\n",
       "      <td>1972.8</td>\n",
       "    </tr>\n",
       "    <tr>\n",
       "      <th>2017-08-19 16:00:00</th>\n",
       "      <td>4.5</td>\n",
       "      <td>1155.20</td>\n",
       "      <td>1972.8</td>\n",
       "    </tr>\n",
       "  </tbody>\n",
       "</table>\n",
       "<p>1834 rows × 3 columns</p>\n",
       "</div>"
      ],
      "text/plain": [
       "                     municipality_id    usage  total_capacity\n",
       "timestamp                                                    \n",
       "2017-06-04 07:00:00              4.5   471.40          1972.8\n",
       "2017-06-04 08:00:00              4.5   631.65          1972.8\n",
       "2017-06-04 09:00:00              4.5   896.35          1972.8\n",
       "2017-06-04 10:00:00              4.5  1067.15          1972.8\n",
       "2017-06-04 11:00:00              4.5  1147.75          1972.8\n",
       "...                              ...      ...             ...\n",
       "2017-08-19 12:00:00              4.5  1245.40          1972.8\n",
       "2017-08-19 13:00:00              4.5  1304.95          1972.8\n",
       "2017-08-19 14:00:00              4.5  1322.10          1972.8\n",
       "2017-08-19 15:00:00              4.5  1282.80          1972.8\n",
       "2017-08-19 16:00:00              4.5  1155.20          1972.8\n",
       "\n",
       "[1834 rows x 3 columns]"
      ]
     },
     "execution_count": 10,
     "metadata": {},
     "output_type": "execute_result"
    }
   ],
   "source": [
    "df.resample(\"H\").mean()"
   ]
  },
  {
   "cell_type": "code",
   "execution_count": 11,
   "id": "a2531fde",
   "metadata": {},
   "outputs": [
    {
     "data": {
      "text/html": [
       "<div>\n",
       "<style scoped>\n",
       "    .dataframe tbody tr th:only-of-type {\n",
       "        vertical-align: middle;\n",
       "    }\n",
       "\n",
       "    .dataframe tbody tr th {\n",
       "        vertical-align: top;\n",
       "    }\n",
       "\n",
       "    .dataframe thead th {\n",
       "        text-align: right;\n",
       "    }\n",
       "</style>\n",
       "<table border=\"1\" class=\"dataframe\">\n",
       "  <thead>\n",
       "    <tr style=\"text-align: right;\">\n",
       "      <th></th>\n",
       "      <th>municipality_id</th>\n",
       "      <th>usage</th>\n",
       "      <th>total_capacity</th>\n",
       "    </tr>\n",
       "    <tr>\n",
       "      <th>timestamp</th>\n",
       "      <th></th>\n",
       "      <th></th>\n",
       "      <th></th>\n",
       "    </tr>\n",
       "  </thead>\n",
       "  <tbody>\n",
       "    <tr>\n",
       "      <th>2017-06-04 07:59:42</th>\n",
       "      <td>0</td>\n",
       "      <td>204</td>\n",
       "      <td>2813</td>\n",
       "    </tr>\n",
       "    <tr>\n",
       "      <th>2017-06-04 08:25:42</th>\n",
       "      <td>0</td>\n",
       "      <td>247</td>\n",
       "      <td>2813</td>\n",
       "    </tr>\n",
       "    <tr>\n",
       "      <th>2017-06-04 08:59:42</th>\n",
       "      <td>0</td>\n",
       "      <td>332</td>\n",
       "      <td>2813</td>\n",
       "    </tr>\n",
       "    <tr>\n",
       "      <th>2017-06-04 09:32:46</th>\n",
       "      <td>0</td>\n",
       "      <td>429</td>\n",
       "      <td>2813</td>\n",
       "    </tr>\n",
       "    <tr>\n",
       "      <th>2017-06-04 09:59:48</th>\n",
       "      <td>0</td>\n",
       "      <td>485</td>\n",
       "      <td>2813</td>\n",
       "    </tr>\n",
       "    <tr>\n",
       "      <th>...</th>\n",
       "      <td>...</td>\n",
       "      <td>...</td>\n",
       "      <td>...</td>\n",
       "    </tr>\n",
       "    <tr>\n",
       "      <th>2017-08-19 14:30:33</th>\n",
       "      <td>0</td>\n",
       "      <td>1285</td>\n",
       "      <td>2813</td>\n",
       "    </tr>\n",
       "    <tr>\n",
       "      <th>2017-08-19 15:03:34</th>\n",
       "      <td>0</td>\n",
       "      <td>1283</td>\n",
       "      <td>2813</td>\n",
       "    </tr>\n",
       "    <tr>\n",
       "      <th>2017-08-19 15:29:33</th>\n",
       "      <td>0</td>\n",
       "      <td>1286</td>\n",
       "      <td>2813</td>\n",
       "    </tr>\n",
       "    <tr>\n",
       "      <th>2017-08-19 16:03:35</th>\n",
       "      <td>0</td>\n",
       "      <td>1276</td>\n",
       "      <td>2813</td>\n",
       "    </tr>\n",
       "    <tr>\n",
       "      <th>2017-08-19 16:30:35</th>\n",
       "      <td>0</td>\n",
       "      <td>1271</td>\n",
       "      <td>2813</td>\n",
       "    </tr>\n",
       "  </tbody>\n",
       "</table>\n",
       "<p>1307 rows × 3 columns</p>\n",
       "</div>"
      ],
      "text/plain": [
       "                     municipality_id  usage  total_capacity\n",
       "timestamp                                                  \n",
       "2017-06-04 07:59:42                0    204            2813\n",
       "2017-06-04 08:25:42                0    247            2813\n",
       "2017-06-04 08:59:42                0    332            2813\n",
       "2017-06-04 09:32:46                0    429            2813\n",
       "2017-06-04 09:59:48                0    485            2813\n",
       "...                              ...    ...             ...\n",
       "2017-08-19 14:30:33                0   1285            2813\n",
       "2017-08-19 15:03:34                0   1283            2813\n",
       "2017-08-19 15:29:33                0   1286            2813\n",
       "2017-08-19 16:03:35                0   1276            2813\n",
       "2017-08-19 16:30:35                0   1271            2813\n",
       "\n",
       "[1307 rows x 3 columns]"
      ]
     },
     "execution_count": 11,
     "metadata": {},
     "output_type": "execute_result"
    }
   ],
   "source": [
    "df0=df[df[\"municipality_id\"]==0]\n",
    "df0"
   ]
  },
  {
   "cell_type": "code",
   "execution_count": 12,
   "id": "c4b02fd3",
   "metadata": {},
   "outputs": [
    {
     "data": {
      "text/plain": [
       "332"
      ]
     },
     "execution_count": 12,
     "metadata": {},
     "output_type": "execute_result"
    }
   ],
   "source": [
    "df0[\"usage\"][2]"
   ]
  },
  {
   "cell_type": "code",
   "execution_count": 13,
   "id": "20096397",
   "metadata": {},
   "outputs": [
    {
     "data": {
      "text/html": [
       "<div>\n",
       "<style scoped>\n",
       "    .dataframe tbody tr th:only-of-type {\n",
       "        vertical-align: middle;\n",
       "    }\n",
       "\n",
       "    .dataframe tbody tr th {\n",
       "        vertical-align: top;\n",
       "    }\n",
       "\n",
       "    .dataframe thead th {\n",
       "        text-align: right;\n",
       "    }\n",
       "</style>\n",
       "<table border=\"1\" class=\"dataframe\">\n",
       "  <thead>\n",
       "    <tr style=\"text-align: right;\">\n",
       "      <th></th>\n",
       "      <th>municipality_id</th>\n",
       "      <th>usage</th>\n",
       "      <th>total_capacity</th>\n",
       "    </tr>\n",
       "    <tr>\n",
       "      <th>timestamp</th>\n",
       "      <th></th>\n",
       "      <th></th>\n",
       "      <th></th>\n",
       "    </tr>\n",
       "  </thead>\n",
       "  <tbody>\n",
       "    <tr>\n",
       "      <th>2017-06-04 07:59:42</th>\n",
       "      <td>0</td>\n",
       "      <td>204</td>\n",
       "      <td>2813</td>\n",
       "    </tr>\n",
       "    <tr>\n",
       "      <th>2017-06-04 08:25:42</th>\n",
       "      <td>0</td>\n",
       "      <td>247</td>\n",
       "      <td>2813</td>\n",
       "    </tr>\n",
       "    <tr>\n",
       "      <th>2017-06-04 08:59:42</th>\n",
       "      <td>0</td>\n",
       "      <td>332</td>\n",
       "      <td>2813</td>\n",
       "    </tr>\n",
       "    <tr>\n",
       "      <th>2017-06-04 09:32:46</th>\n",
       "      <td>0</td>\n",
       "      <td>429</td>\n",
       "      <td>2813</td>\n",
       "    </tr>\n",
       "    <tr>\n",
       "      <th>2017-06-04 09:59:48</th>\n",
       "      <td>0</td>\n",
       "      <td>485</td>\n",
       "      <td>2813</td>\n",
       "    </tr>\n",
       "    <tr>\n",
       "      <th>...</th>\n",
       "      <td>...</td>\n",
       "      <td>...</td>\n",
       "      <td>...</td>\n",
       "    </tr>\n",
       "    <tr>\n",
       "      <th>2017-08-19 14:30:33</th>\n",
       "      <td>0</td>\n",
       "      <td>1285</td>\n",
       "      <td>2813</td>\n",
       "    </tr>\n",
       "    <tr>\n",
       "      <th>2017-08-19 15:03:34</th>\n",
       "      <td>0</td>\n",
       "      <td>1283</td>\n",
       "      <td>2813</td>\n",
       "    </tr>\n",
       "    <tr>\n",
       "      <th>2017-08-19 15:29:33</th>\n",
       "      <td>0</td>\n",
       "      <td>1286</td>\n",
       "      <td>2813</td>\n",
       "    </tr>\n",
       "    <tr>\n",
       "      <th>2017-08-19 16:03:35</th>\n",
       "      <td>0</td>\n",
       "      <td>1276</td>\n",
       "      <td>2813</td>\n",
       "    </tr>\n",
       "    <tr>\n",
       "      <th>2017-08-19 16:30:35</th>\n",
       "      <td>0</td>\n",
       "      <td>1271</td>\n",
       "      <td>2813</td>\n",
       "    </tr>\n",
       "  </tbody>\n",
       "</table>\n",
       "<p>1307 rows × 3 columns</p>\n",
       "</div>"
      ],
      "text/plain": [
       "                     municipality_id  usage  total_capacity\n",
       "timestamp                                                  \n",
       "2017-06-04 07:59:42                0    204            2813\n",
       "2017-06-04 08:25:42                0    247            2813\n",
       "2017-06-04 08:59:42                0    332            2813\n",
       "2017-06-04 09:32:46                0    429            2813\n",
       "2017-06-04 09:59:48                0    485            2813\n",
       "...                              ...    ...             ...\n",
       "2017-08-19 14:30:33                0   1285            2813\n",
       "2017-08-19 15:03:34                0   1283            2813\n",
       "2017-08-19 15:29:33                0   1286            2813\n",
       "2017-08-19 16:03:35                0   1276            2813\n",
       "2017-08-19 16:30:35                0   1271            2813\n",
       "\n",
       "[1307 rows x 3 columns]"
      ]
     },
     "execution_count": 13,
     "metadata": {},
     "output_type": "execute_result"
    }
   ],
   "source": [
    "df0"
   ]
  },
  {
   "cell_type": "code",
   "execution_count": 14,
   "id": "8dffbcf1",
   "metadata": {},
   "outputs": [
    {
     "data": {
      "text/html": [
       "<div>\n",
       "<style scoped>\n",
       "    .dataframe tbody tr th:only-of-type {\n",
       "        vertical-align: middle;\n",
       "    }\n",
       "\n",
       "    .dataframe tbody tr th {\n",
       "        vertical-align: top;\n",
       "    }\n",
       "\n",
       "    .dataframe thead th {\n",
       "        text-align: right;\n",
       "    }\n",
       "</style>\n",
       "<table border=\"1\" class=\"dataframe\">\n",
       "  <thead>\n",
       "    <tr style=\"text-align: right;\">\n",
       "      <th></th>\n",
       "      <th>usage</th>\n",
       "    </tr>\n",
       "    <tr>\n",
       "      <th>timestamp</th>\n",
       "      <th></th>\n",
       "    </tr>\n",
       "  </thead>\n",
       "  <tbody>\n",
       "    <tr>\n",
       "      <th>2017-06-04 07:59:42</th>\n",
       "      <td>204</td>\n",
       "    </tr>\n",
       "    <tr>\n",
       "      <th>2017-06-04 08:25:42</th>\n",
       "      <td>247</td>\n",
       "    </tr>\n",
       "    <tr>\n",
       "      <th>2017-06-04 08:59:42</th>\n",
       "      <td>332</td>\n",
       "    </tr>\n",
       "    <tr>\n",
       "      <th>2017-06-04 09:32:46</th>\n",
       "      <td>429</td>\n",
       "    </tr>\n",
       "    <tr>\n",
       "      <th>2017-06-04 09:59:48</th>\n",
       "      <td>485</td>\n",
       "    </tr>\n",
       "    <tr>\n",
       "      <th>...</th>\n",
       "      <td>...</td>\n",
       "    </tr>\n",
       "    <tr>\n",
       "      <th>2017-08-19 14:30:33</th>\n",
       "      <td>1285</td>\n",
       "    </tr>\n",
       "    <tr>\n",
       "      <th>2017-08-19 15:03:34</th>\n",
       "      <td>1283</td>\n",
       "    </tr>\n",
       "    <tr>\n",
       "      <th>2017-08-19 15:29:33</th>\n",
       "      <td>1286</td>\n",
       "    </tr>\n",
       "    <tr>\n",
       "      <th>2017-08-19 16:03:35</th>\n",
       "      <td>1276</td>\n",
       "    </tr>\n",
       "    <tr>\n",
       "      <th>2017-08-19 16:30:35</th>\n",
       "      <td>1271</td>\n",
       "    </tr>\n",
       "  </tbody>\n",
       "</table>\n",
       "<p>1307 rows × 1 columns</p>\n",
       "</div>"
      ],
      "text/plain": [
       "                     usage\n",
       "timestamp                 \n",
       "2017-06-04 07:59:42    204\n",
       "2017-06-04 08:25:42    247\n",
       "2017-06-04 08:59:42    332\n",
       "2017-06-04 09:32:46    429\n",
       "2017-06-04 09:59:48    485\n",
       "...                    ...\n",
       "2017-08-19 14:30:33   1285\n",
       "2017-08-19 15:03:34   1283\n",
       "2017-08-19 15:29:33   1286\n",
       "2017-08-19 16:03:35   1276\n",
       "2017-08-19 16:30:35   1271\n",
       "\n",
       "[1307 rows x 1 columns]"
      ]
     },
     "execution_count": 14,
     "metadata": {},
     "output_type": "execute_result"
    }
   ],
   "source": [
    "df01=df0.drop([\"municipality_id\", \"total_capacity\"], axis=1)\n",
    "df01"
   ]
  },
  {
   "cell_type": "code",
   "execution_count": 15,
   "id": "a46cf1ca",
   "metadata": {},
   "outputs": [
    {
     "data": {
      "text/plain": [
       "[<matplotlib.lines.Line2D at 0x139c1dcffd0>]"
      ]
     },
     "execution_count": 15,
     "metadata": {},
     "output_type": "execute_result"
    },
    {
     "data": {
      "image/png": "[encoded data removed]",
      "text/plain": [
       "<Figure size 432x288 with 1 Axes>"
      ]
     },
     "metadata": {
      "needs_background": "light"
     },
     "output_type": "display_data"
    }
   ],
   "source": [
    "plt.plot(df01)"
   ]
  },
  {
   "cell_type": "code",
   "execution_count": 16,
   "id": "f0e5e8d9",
   "metadata": {},
   "outputs": [],
   "source": [
    "df01_mean=df01.rolling(window=30).mean()"
   ]
  },
  {
   "cell_type": "code",
   "execution_count": 17,
   "id": "abba91c7",
   "metadata": {},
   "outputs": [
    {
     "data": {
      "text/plain": [
       "[<matplotlib.lines.Line2D at 0x139c3f1d8a0>]"
      ]
     },
     "execution_count": 17,
     "metadata": {},
     "output_type": "execute_result"
    },
    {
     "data": {
      "image/png": "[encoded data removed]",
      "text/plain": [
       "<Figure size 432x288 with 1 Axes>"
      ]
     },
     "metadata": {
      "needs_background": "light"
     },
     "output_type": "display_data"
    }
   ],
   "source": [
    "plt.plot(df01)\n",
    "plt.plot(df01_mean)"
   ]
  },
  {
   "cell_type": "code",
   "execution_count": 18,
   "id": "5b149292",
   "metadata": {},
   "outputs": [
    {
     "data": {
      "text/plain": [
       "[<matplotlib.lines.Line2D at 0x139c3f689d0>]"
      ]
     },
     "execution_count": 18,
     "metadata": {},
     "output_type": "execute_result"
    },
    {
     "data": {
      "image/png": "[encoded data removed]",
      "text/plain": [
       "<Figure size 432x288 with 1 Axes>"
      ]
     },
     "metadata": {
      "needs_background": "light"
     },
     "output_type": "display_data"
    }
   ],
   "source": [
    "plt.plot(df01_mean)"
   ]
  },
  {
   "cell_type": "code",
   "execution_count": 19,
   "id": "aff50a77",
   "metadata": {},
   "outputs": [],
   "source": [
    "from statsmodels.tsa.stattools import adfuller\n",
    "def test_stationarity(timeseries):\n",
    "    \n",
    "    #Determing rolling statistics\n",
    "    #rolmean = pd.rolling_mean(timeseries, window=12)\n",
    "    rolmean= timeseries.rolling(12).mean()\n",
    "    #rolstd = pd.rolling_std(timeseries, window=12)\n",
    "    rolstd= timeseries.rolling(12).std()\n",
    "#Plot rolling statistics:\n",
    "    plt.plot(timeseries, color='blue',label='Original')\n",
    "    plt.plot(rolmean, color='red', label='Rolling Mean')\n",
    "    plt.plot(rolstd, color='black', label = 'Rolling Std')\n",
    "    plt.legend(loc='best')\n",
    "    plt.title('Rolling Mean & Standard Deviation')\n",
    "    plt.show()\n",
    "    #Perform Dickey-Fuller test:\n",
    "    print ('Results of Dickey-Fuller Test:')\n",
    "    dftest = adfuller(timeseries, autolag='AIC')\n",
    "    dfoutput = pd.Series(dftest[0:4], index=['Test Statistic','p-value','#Lags Used','Number of Observations Used'])\n",
    "    for key,value in dftest[4].items():\n",
    "        dfoutput['Critical Value (%s)'%key] = value\n",
    "    print (dfoutput)"
   ]
  },
  {
   "cell_type": "code",
   "execution_count": 20,
   "id": "ef041cf1",
   "metadata": {},
   "outputs": [
    {
     "data": {
      "image/png": "[encoded data removed]",
      "text/plain": [
       "<Figure size 432x288 with 1 Axes>"
      ]
     },
     "metadata": {
      "needs_background": "light"
     },
     "output_type": "display_data"
    },
    {
     "name": "stdout",
     "output_type": "stream",
     "text": [
      "Results of Dickey-Fuller Test:\n",
      "Test Statistic                   -1.927118\n",
      "p-value                           0.319413\n",
      "#Lags Used                       21.000000\n",
      "Number of Observations Used    1285.000000\n",
      "Critical Value (1%)              -3.435449\n",
      "Critical Value (5%)              -2.863792\n",
      "Critical Value (10%)             -2.567969\n",
      "dtype: float64\n"
     ]
    }
   ],
   "source": [
    "test_stationarity(df01)"
   ]
  },
  {
   "cell_type": "markdown",
   "id": "dd5615cd",
   "metadata": {},
   "source": [
    "I don't have enough time to complete this code. Also ı have never work on timeseries. I am going to upload new code in this repository next weeks. I hope you accept my excuse."
   ]
  },
  {
   "cell_type": "code",
   "execution_count": null,
   "id": "418d468a",
   "metadata": {},
   "outputs": [],
   "source": []
  },
  {
   "cell_type": "code",
   "execution_count": null,
   "id": "df021e97",
   "metadata": {},
   "outputs": [],
   "source": []
  }
 ],
 "metadata": {
  "kernelspec": {
   "display_name": "Python 3 (ipykernel)",
   "language": "python",
   "name": "python3"
  },
  "language_info": {
   "codemirror_mode": {
    "name": "ipython",
    "version": 3
   },
   "file_extension": ".py",
   "mimetype": "text/x-python",
   "name": "python",
   "nbconvert_exporter": "python",
   "pygments_lexer": "ipython3",
   "version": "3.10.4"
  }
 },
 "nbformat": 4,
 "nbformat_minor": 5
}
